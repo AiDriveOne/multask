{
  "nbformat": 4,
  "nbformat_minor": 0,
  "metadata": {
    "colab": {
      "private_outputs": true,
      "provenance": [],
      "mount_file_id": "1f-YxCcqSCED6MSNSjaLcw8eN1ho9U3DD",
      "authorship_tag": "ABX9TyN20sUqEOnIYCZEJDaDwqsy",
      "include_colab_link": true
    },
    "kernelspec": {
      "name": "python3",
      "display_name": "Python 3"
    },
    "language_info": {
      "name": "python"
    }
  },
  "cells": [
    {
      "cell_type": "markdown",
      "metadata": {
        "id": "view-in-github",
        "colab_type": "text"
      },
      "source": [
        "<a href=\"https://colab.research.google.com/github/AiDriveOne/aiGPT/blob/main/My_Datasetxlsx.ipynb\" target=\"_parent\"><img src=\"https://colab.research.google.com/assets/colab-badge.svg\" alt=\"Open In Colab\"/></a>"
      ]
    },
    {
      "cell_type": "markdown",
      "source": [
        "**Welcome to aiDrive company ecosystem**"
      ],
      "metadata": {
        "id": "fKU00E5mfGVe"
      }
    },
    {
      "cell_type": "code",
      "source": [
        "import librosa\n",
        "import librosa.feature\n",
        "import librosa.display\n",
        "import glob\n",
        "import numpy as np\n",
        "import matplotlib.pyplot as plt\n",
        "from keras.models import Sequential\n",
        "from keras.layers import Dense, Activation\n",
        "from keras.utils.np_utils import to_categorical\n",
        "from sklearn.model_selection import train_test_split, StratifiedShuffleSplit, StratifiedKFold"
      ],
      "metadata": {
        "id": "ZN5e2DKWqL71"
      },
      "execution_count": null,
      "outputs": []
    },
    {
      "cell_type": "code",
      "source": [
        "from keras.layers import Dropout\n",
        "\n",
        "# Emotion labels of the RAVDESS dataset\n",
        "emotions={\n",
        "  '01':'neutral',\n",
        "  '02':'calm',\n",
        "  '03':'happy',\n",
        "  '04':'sad',\n",
        "  '05':'angry',\n",
        "  '06':'fearful',\n",
        "  '07':'disgust',\n",
        "  '08':'surprised'\n",
        "}"
      ],
      "metadata": {
        "id": "PvSMZhY4gUd4"
      },
      "execution_count": null,
      "outputs": []
    },
    {
      "cell_type": "code",
      "source": [
        "# Emotions to observe\n",
        "observed_emotions=['calm', 'happy', 'fearful', 'disgust']"
      ],
      "metadata": {
        "id": "HYDJFz-xj1Sy"
      },
      "execution_count": null,
      "outputs": []
    },
    {
      "cell_type": "code",
      "source": [
        "def load_data(test_size=0.2):\n",
        "  x,y=[],[]\n",
        "  for file in glob.glob(\"Actor_*/*.wav\"):\n",
        "    file_name=os.path.basename(file)\n",
        "    emotion=emotions[file_name.split(\"-\")[2]]\n",
        "    if emotion not in observed_emotions:\n",
        "      continue\n",
        "    feature=extract_feature(file, mfcc=True, chroma=True, mel=True)\n",
        "    x.append(feature)\n",
        "    y.append(emotion)"
      ],
      "metadata": {
        "id": "A8gEecZvj7Rx"
      },
      "execution_count": null,
      "outputs": []
    },
    {
      "cell_type": "code",
      "source": [
        "def extract_features_song(f):\n",
        "    y, _ = librosa.load(f)\n",
        "\n",
        "    mfcc = librosa.feature.mfcc(y)\n",
        "    mfcc /= np.amax(np.absolute(mfcc))\n",
        "\n",
        "    return np.ndarray.flatten(mfcc)[:25000]"
      ],
      "metadata": {
        "id": "F6qn9f6fkuye"
      },
      "execution_count": null,
      "outputs": []
    },
    {
      "cell_type": "code",
      "source": [
        "def display_mfcc(song):\n",
        "    y, _ = librosa.load(song)\n",
        "    mfcc = librosa.feature.mfcc(y)\n",
        "\n",
        "    plt.figure(figsize=(10, 4))\n",
        "    librosa.display.specshow(mfcc, x_axis='time', y_axis='mel')\n",
        "    plt.colorbar()\n",
        "    plt.title(song)\n",
        "    plt.tight_layout()\n",
        "    plt.show()"
      ],
      "metadata": {
        "id": "tpWKBdO8qJl0"
      },
      "execution_count": null,
      "outputs": []
    },
    {
      "cell_type": "code",
      "source": [
        "def extract_features_song(f):\n",
        "    y, _ = librosa.load(f)\n",
        "\n",
        "    mfcc = librosa.feature.mfcc(y)\n",
        "    mfcc /= np.amax(np.absolute(mfcc))\n",
        "\n",
        "    return np.ndarray.flatten(mfcc)[:25000]"
      ],
      "metadata": {
        "id": "yGzWcEw1qaPG"
      },
      "execution_count": null,
      "outputs": []
    },
    {
      "cell_type": "code",
      "source": [
        "def generate_features_and_labels():\n",
        "    all_features = []\n",
        "    all_labels = []\n",
        "    genres = ['blues', 'classical', 'country', 'disco', 'hiphop', 'jazz', 'metal', 'pop', 'reggae', 'rock']\n",
        "    \n",
        "    for genre in genres:\n",
        "        sound_files = glob.glob('genres/'+genre+'/*.au')\n",
        "        print('Processing %d songs in %s genre...' % (len(sound_files), genre))\n",
        "        \n",
        "        for f in sound_files:\n",
        "            features = extract_features_song(f)\n",
        "            all_features.append(features)\n",
        "            all_labels.append(genre)\n",
        "\n",
        "    label_uniq_ids, label_row_ids = np.unique(all_labels, return_inverse=True)\n",
        "    label_row_ids = label_row_ids.astype(np.int32, copy=False)\n",
        "    onehot_labels = to_categorical(label_row_ids, len(label_uniq_ids))\n",
        "    \n",
        "    return np.stack(all_features), onehot_labels"
      ],
      "metadata": {
        "id": "hm3NKbTSqfsq"
      },
      "execution_count": null,
      "outputs": []
    },
    {
      "cell_type": "code",
      "source": [
        "def generate_features_and_labels():\n",
        "    all_features = []\n",
        "    all_labels = []\n",
        "    genres = ['blues', 'classical', 'country', 'disco', 'hiphop', 'jazz', 'metal', 'pop', 'reggae', 'rock']\n",
        "    \n",
        "    for genre in genres:\n",
        "        sound_files = glob.glob('genres/'+genre+'/*.au')\n",
        "        print('Processing %d songs in %s genre...' % (len(sound_files), genre))\n",
        "        \n",
        "        for f in sound_files:\n",
        "            features = extract_features_song(f)\n",
        "            all_features.append(features)\n",
        "            all_labels.append(genre)\n",
        "\n",
        "    label_uniq_ids, label_row_ids = np.unique(all_labels, return_inverse=True)\n",
        "    label_row_ids = label_row_ids.astype(np.int32, copy=False)\n",
        "    onehot_labels = to_categorical(label_row_ids, len(label_uniq_ids))\n",
        "    \n",
        "    return np.stack(all_features), onehot_labels"
      ],
      "metadata": {
        "id": "WAXcYEFirAKr"
      },
      "execution_count": null,
      "outputs": []
    }
  ]
}